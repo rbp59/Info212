{
 "cells": [
  {
   "cell_type": "markdown",
   "metadata": {},
   "source": [
    "<h1 style=\"text-align:center\"> Drexel University </h1>\n",
    "<h2 style = \"text-align:center\"> College of Computing and Informatics</h2>\n",
    "<h2 style = \"text-align:center\">INFO 212: Data Science Programming I</h2>\n",
    "<h3 style = \"text-align:center\">Assignment 1</h3>\n",
    "<div style=\"text-align:center; border-style:solid; padding: 10px\">\n",
    "<div style=\"font-weight:bold\">Due Date: Saturday, April 15, 2018</div>\n",
    "This assignment counts for 10% of the final grade\n",
    "</div>\n",
    "\n",
    "<h3 style=\"color:red; font-weight:bold; text-decoration: underline\">DON'T FORGET TO PUT YOUR NAME BELOW</h3>\n",
    "\n",
    "### NAME: Raj B. Patel\n",
    "\n",
    "\n",
    "### A. Assignment Overview\n",
    "This assignment provides the opportunity for you to practice with Python basics. \n",
    "\n",
    "### B. What to Hand In\n",
    "\t\n",
    "Sumbit a completed this Jupyter notebook. \n",
    "\n",
    "### C. How to Hand In\n",
    "\n",
    "Submit your Jupyter notebook file through the course website in the Blackboard Learn system.\n",
    "\n",
    "### D. When to Hand In\n",
    "\n",
    "1. Submit your assignment no later than 11:59pm in the due date.\n",
    "2. There will be a 10% (absolute value) deduction for each day of lateness, to a maximum of 3 days; assignments will not be accepted beyond that point. Missing work will earn a zero grade.\n",
    "\n",
    "### E. Written Presentation Requirements (if applicable)\n",
    "Images must be clear and legible. Assignments will be judged on the basis of visual appearance, grammatical correctness, and quality of writing, as well as their contents. Please make sure that the text of your assignments is well-structured, using paragraphs, full sentences, and other features of well-written presentation. Text font size should be either 11 or 12 points.\n",
    "\n",
    "### F. Marking Schemes:\n",
    "\n",
    "Marking assignments will be based on several aspects: presentation, correctness and coding styles. \n",
    "\n",
    "For programming questions, 10% of the mark will be judged on the coding style. \n",
    "\n",
    "The following is a set of guidelines for the coding style in this course:\n",
    "1. Write a good comment for each variable, each method, each control branch, and each loop.\n",
    "2. Use appropriate indentations to indicate control flows and blocks of code. \n",
    "3. Your method comments must mention the purpose of each parameter, and must be grammatically correct. \n",
    "4. Each line must be less than 80 characters long including tabs and spaces. \n",
    "5. Put a blank space before and after every operator. \n",
    "6. When breaking up a long line, break it before an operator, not after. \n",
    "\n",
    "### G. Answer the following questions"
   ]
  },
  {
   "cell_type": "markdown",
   "metadata": {},
   "source": [
    "#### Question 1:\n",
    "Write a Python function `convert_to_chars(s)` that converts a string to a list of characters. \n",
    "\n",
    "For example, for the string `s=\"hello world\"`, the function should create the list `['h', 'e', 'l', 'l', 'o', ' ', 'w', 'o', 'r', 'l', 'd']`\n",
    "\n",
    "Test your function on some strings."
   ]
  },
  {
   "cell_type": "code",
   "execution_count": 7,
   "metadata": {},
   "outputs": [
    {
     "data": {
      "text/plain": [
       "['h', 'e', 'l', 'l', 'o', ' ', 'w', 'o', 'r', 'l', 'd']"
      ]
     },
     "execution_count": 7,
     "metadata": {},
     "output_type": "execute_result"
    }
   ],
   "source": [
    "# A function to convert a string into a list of characters\n",
    "# The input is a string \n",
    "def convert_to_chars(s):\n",
    "    \"\"\"\n",
    "    Input:\n",
    "        s: a string\n",
    "    Output:\n",
    "        chars: a list of characters in the input string\n",
    "    \"\"\"\n",
    "    #create an empty list\n",
    "    list = []\n",
    "    #iterate through each character of the string and add it to the empty list\n",
    "    for character in s:\n",
    "        list.append(character)\n",
    "    #output the final list of characters   \n",
    "    return list\n",
    "\n",
    "convert_to_chars(\"hello world\")    \n",
    "    \n"
   ]
  },
  {
   "cell_type": "markdown",
   "metadata": {},
   "source": [
    "#### Question 2:\n",
    "Write a Python function `test_ten_percent(a, b)` that prints `True` if the variable $a$ is within $10\\%$ of the variable $b$ and `False` otherwise. Test your program on some pairs of numbers."
   ]
  },
  {
   "cell_type": "code",
   "execution_count": 6,
   "metadata": {},
   "outputs": [
    {
     "name": "stdout",
     "output_type": "stream",
     "text": [
      "True\n"
     ]
    }
   ],
   "source": [
    "# A function to check if the first number in a pair \n",
    "# is within 10% of the second number\n",
    "# A pair of numbers are inputted\n",
    "def test_ten_percent(num1, num2):\n",
    "    \"\"\"\n",
    "    Input:\n",
    "        a: a number\n",
    "        b: a number\n",
    "    Output:\n",
    "        True: if a is within 10% of b\n",
    "        False: otherwise\n",
    "    \"\"\"\n",
    "    #A conditional statement that checks to see if the first number in a\n",
    "    #pair is within 10% of the second number. If so, return true.\n",
    "    if (num1 >= (num2*0.9)) and (num1 <= (num2*1.1)):\n",
    "        print(\"True\")\n",
    "    #Prints false if the conditional statement above does not hold true    \n",
    "    else:\n",
    "        print(\"False\")\n",
    "test_ten_percent(9.75, 10)"
   ]
  },
  {
   "cell_type": "markdown",
   "metadata": {},
   "source": [
    "#### Qestion 3:\n",
    "Write a Python function `build_map(list1, list2)` which takes two lists as input and creates a map which uses the first list as the keys and second list as the values.\n",
    "\n",
    "For example, given two lists:\n",
    "\n",
    "`ls1 = [2,5,8]`\n",
    "\n",
    "`ls2 = ['we', 'me', 'he']`\n",
    "\n",
    "The function returns a map:\n",
    "\n",
    "`m = {2:'we', 5:'me', 8:'he']`"
   ]
  },
  {
   "cell_type": "code",
   "execution_count": 5,
   "metadata": {},
   "outputs": [
    {
     "data": {
      "text/plain": [
       "{2: 'we', 5: 'me', 8: 'None'}"
      ]
     },
     "execution_count": 5,
     "metadata": {},
     "output_type": "execute_result"
    }
   ],
   "source": [
    "# A function that takes two lists as input and creates a map \n",
    "# between the keys in list1 and values in list2\n",
    "def build_map(list1, list2):\n",
    "    \"\"\"\n",
    "    Build a map from the two given lists.\n",
    "    \n",
    "    Input:\n",
    "        l1: a list of keys\n",
    "        l2: a list of values\n",
    "    Output:\n",
    "        m: a map from the keys to values. If there are fewer values than\n",
    "        keys, map keys to None\n",
    "    \"\"\"\n",
    "    #Create an empty dictionary\n",
    "    map = {}\n",
    "    #Check to see if the lenth of list1 & list2 are equal\n",
    "    if len(list1) == len(list2):\n",
    "        #iterate through the length of list1, pair each key with the\n",
    "        #corresponding value from list2, and return the final dictionary\n",
    "        for element in range(len(list1)):\n",
    "            map[list1[element]] = list2[element]\n",
    "        return map\n",
    "    #If the two lists are not equal, the following will execute\n",
    "    else:\n",
    "        #Create variables x & y for the lengths of each list\n",
    "        #Create variable z for it to be an empty list\n",
    "        list1_len = len(list1)\n",
    "        list2_len = len(list2)\n",
    "        empty = []\n",
    "        #Copy each value from list2 into z\n",
    "        for value in list2:\n",
    "            empty.append(value)\n",
    "        #When the quantity of keys is greater than the quantity\n",
    "        #of values, add \"None\" in the values list for the keys \n",
    "        #that don't have any corresponding values.\n",
    "        for val in range(list1_len-list2_len):\n",
    "            empty.append(\"None\")\n",
    "        #iterate through the length of list1, pair each key with the\n",
    "        #corresponding value from z, and return the final dictionary\n",
    "        for elem in range(len(list1)):\n",
    "            map[list1[elem]] = empty[elem]\n",
    "        return map\n",
    "    \n",
    "list1 = [2,5,8]\n",
    "list2 = ['we', 'me']\n",
    "\n",
    "build_map(list1, list2)"
   ]
  },
  {
   "cell_type": "markdown",
   "metadata": {},
   "source": [
    "#### Question 4: \n",
    "Write a Python function `count_lines(fname)` which counts the number of lines in a text file. Download the `train.csv` file in the titanic data set and test the function on the file `train.csv`."
   ]
  },
  {
   "cell_type": "code",
   "execution_count": 4,
   "metadata": {},
   "outputs": [
    {
     "data": {
      "text/plain": [
       "891"
      ]
     },
     "execution_count": 4,
     "metadata": {},
     "output_type": "execute_result"
    }
   ],
   "source": [
    "#import the pandas & os libraries\n",
    "import pandas as pd\n",
    "import os  \n",
    "\n",
    "\n",
    "# A function that counts the lines of a text file,\n",
    "# given the file path as input\n",
    "def count_lines(fname):\n",
    "    \"\"\"\n",
    "    Count the number of lines in a text file\n",
    "    Input:\n",
    "        fname: the path/name to a text file. Your code \n",
    "        should take care of the case if the file doesn't exist.\n",
    "    Output:\n",
    "        numOfLines: the number of lines in the input text file\n",
    "    \"\"\"\n",
    "    # Variable status is set to path status as true or false\n",
    "    satus = os.path.isfile(fname)\n",
    "    # Conditional statement to execute if path is valid\n",
    "    if  satus == 1:\n",
    "        # Read in data set and assign it to a variable\n",
    "        dataset = pd.read_csv(fname)\n",
    "        # Assign the shape tuple to a variable\n",
    "        x = dataset.shape\n",
    "        # Return the first value in the tuple that \n",
    "        # represents the rows of the dataset\n",
    "        return x[0]\n",
    "    else:\n",
    "        # Print Invalid Path if the path does not exist\n",
    "        print(\"Invalid Path\")\n",
    "\n",
    "count_lines(\"../DataSets/train.csv\")\n"
   ]
  },
  {
   "cell_type": "markdown",
   "metadata": {},
   "source": [
    "#### Question 5:\n",
    "Given a list $c=[c_0, c_1, ..c_n]$ containing the coefficients of the polynomial $y=c_0+c_1x+c_2x^2+...+c_nx^n$. Write a Python function `poly_value(x, c)` to calculate the value of the polynomial for a given value $x$.\n",
    "\n",
    "For example, the list `c=[0.2, 0.4,0.3]` contains the coefficients of the following polynomial: $y = c_0 + c_1 + c_2x^2$. Given $x=5$, the functin `poly_value(x, c)` returns 9.7.\n",
    "\n",
    "Hint: The built-in function `enumerate` takes a sequence (e.g. a list) and generates a new sequence of the same length. Each element of the new sequence is a pair composed of the index (0, 1, 2,…) and the value from the original sequence.\n",
    "\n",
    "You can write a loop to use `enumerate(c)` to compuate `y`."
   ]
  },
  {
   "cell_type": "code",
   "execution_count": 2,
   "metadata": {},
   "outputs": [
    {
     "data": {
      "text/plain": [
       "9.7"
      ]
     },
     "execution_count": 2,
     "metadata": {},
     "output_type": "execute_result"
    }
   ],
   "source": [
    "# Function to calculate the value of a polynomial\n",
    "# for a given value  x and a list of coefficients, c\n",
    "\n",
    "def poly_value(x, c):\n",
    "    \"\"\"\n",
    "    This function compute the value of the polynomial\n",
    "    y=c[0]+c[1]*x+c[2]*x**2+...\n",
    "    \n",
    "    Input:\n",
    "        x: a given value\n",
    "        c: a list of coefficients of a polynomial\n",
    "    Output:\n",
    "        val: the value of polynomial y=c[0]+c[1]*x+c[2]*x**2+...\n",
    "    \"\"\"\n",
    "    # Create a list that has tuples of indices (starting with zero) and\n",
    "    # Coefficient values  from input c\n",
    "    counter_list = list(enumerate(c, 0))\n",
    "    #initialize output to zero\n",
    "    output = 0\n",
    "    # Iterate through counter_list to compute the polynomial value\n",
    "    # for each coefficient and add each result to the output variable\n",
    "    for value in counter_list:\n",
    "        output += (value[1]*(x**(value[0])))\n",
    "    # Return back the calculated output    \n",
    "    return output\n",
    "        \n",
    "        \n",
    "    \n",
    "    \n",
    "poly_value(5, [0.2,0.4,0.3])\n",
    "\n",
    "\n",
    "\n"
   ]
  }
 ],
 "metadata": {
  "kernelspec": {
   "display_name": "Python 3",
   "language": "python",
   "name": "python3"
  },
  "language_info": {
   "codemirror_mode": {
    "name": "ipython",
    "version": 3
   },
   "file_extension": ".py",
   "mimetype": "text/x-python",
   "name": "python",
   "nbconvert_exporter": "python",
   "pygments_lexer": "ipython3",
   "version": "3.6.4"
  }
 },
 "nbformat": 4,
 "nbformat_minor": 2
}
