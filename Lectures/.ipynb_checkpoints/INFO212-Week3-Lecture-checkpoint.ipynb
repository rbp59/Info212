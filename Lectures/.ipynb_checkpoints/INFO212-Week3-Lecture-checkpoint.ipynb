{
 "cells": [
  {
   "cell_type": "markdown",
   "metadata": {},
   "source": [
    "# INFO 212: Data Science Programming 1\n",
    "___\n",
    "\n",
    "### Week 3: Numpy: Arrays and Vectorized Computation\n",
    "___\n",
    "\n",
    "### Mon., April 16, and Wed., April 18, 2018\n",
    "---\n",
    "\n",
    "**Question:**\n",
    "- What efficient capabilities does Python provide for data manipulation and scientific computing? \n",
    "\n",
    "**Objectives:**\n",
    "- Apply fast vectorized array operations for data munging and cleaning, subsetting and filtering, transformation, and any other kinds of computations\n",
    "- Compute descriptive statistics and aggregating/summarizing data using Numpy's methods\n",
    "- Merge and join together heterogeneous datasets\n",
    "- Express conditional logic as array expressions instead of loops with if-elif-else branches\n",
    "- Group and aggregate numpy data. \n"
   ]
  },
  {
   "cell_type": "code",
   "execution_count": 3,
   "metadata": {},
   "outputs": [],
   "source": [
    "import pandas as pd\n",
    "import numpy as np\n",
    "import matplotlib.pyplot as plt\n",
    "%matplotlib inline"
   ]
  },
  {
   "cell_type": "markdown",
   "metadata": {},
   "source": [
    "Import the following libraries for each data analysis task. \n",
    "- pandas as pd\n",
    "- numpy as np\n",
    "- matplotlib.pylot as plt\n",
    "\n",
    "Make the matplotlib inline for the figures to show up in the notebook"
   ]
  },
  {
   "cell_type": "code",
   "execution_count": 1,
   "metadata": {},
   "outputs": [],
   "source": [
    "import pandas as pd\n",
    "import numpy as np\n",
    "import matplotlib.pyplot as plt\n",
    "%matplotlib inline"
   ]
  },
  {
   "cell_type": "markdown",
   "metadata": {},
   "source": [
    "The following statements to set up some preferences."
   ]
  },
  {
   "cell_type": "code",
   "execution_count": 4,
   "metadata": {},
   "outputs": [],
   "source": [
    "np.random.seed(12345)\n",
    "plt.rc('figure', figsize=(10, 6))\n",
    "np.set_printoptions(precision=4, suppress=True)"
   ]
  },
  {
   "cell_type": "markdown",
   "metadata": {},
   "source": [
    "NumPy, short for Numerical Python, is one of the most important foundational packages\n",
    "for numerical computing in Python. Most computational packages providing\n",
    "scientific functionality use NumPy’s array objects as the lingua franca for data\n",
    "exchange.\n",
    "Here are some of the things you’ll find in NumPy:\n",
    "* ndarray, an efficient multidimensional array providing fast array-oriented arithmetic operations and flexible broadcasting capabilities.\n",
    "* Mathematical functions for fast operations on entire arrays of data without having to write loops.\n",
    "* Tools for reading/writing array data to disk and working with memory-mapped files.\n",
    "* Linear algebra, random number generation, and Fourier transform capabilities.\n",
    "* A C API for connecting NumPy with libraries written in C, C++, or FORTRAN."
   ]
  },
  {
   "cell_type": "markdown",
   "metadata": {},
   "source": [
    "Test the efficiency of numpy computation."
   ]
  },
  {
   "cell_type": "code",
   "execution_count": 5,
   "metadata": {},
   "outputs": [],
   "source": [
    "import numpy as np\n",
    "my_arr = np.arange(1000000)\n",
    "my_list = list(range(1000000))"
   ]
  },
  {
   "cell_type": "code",
   "execution_count": 6,
   "metadata": {},
   "outputs": [
    {
     "name": "stdout",
     "output_type": "stream",
     "text": [
      "CPU times: user 12.6 ms, sys: 5.55 ms, total: 18.2 ms\n",
      "Wall time: 16.1 ms\n",
      "CPU times: user 655 ms, sys: 138 ms, total: 793 ms\n",
      "Wall time: 791 ms\n"
     ]
    }
   ],
   "source": [
    "%time for _ in range(10): my_arr2 = my_arr * 2\n",
    "%time for _ in range(10): my_list2 = [x * 2 for x in my_list]"
   ]
  },
  {
   "cell_type": "markdown",
   "metadata": {},
   "source": [
    "## Numpy narray Computation"
   ]
  },
  {
   "cell_type": "markdown",
   "metadata": {},
   "source": [
    "How to load data from disk to numpy arrays?\n",
    "\n",
    "```np.loadtxt()```"
   ]
  },
  {
   "cell_type": "code",
   "execution_count": 9,
   "metadata": {},
   "outputs": [],
   "source": [
    "data = np.loadtxt(\"../DataSets/inflammation-data/inflammation-01.csv\", delimiter = \",\")"
   ]
  },
  {
   "cell_type": "code",
   "execution_count": 10,
   "metadata": {},
   "outputs": [],
   "source": [
    "?np.loadtxt"
   ]
  },
  {
   "cell_type": "markdown",
   "metadata": {},
   "source": [
    "Assign the array to a variable called 'data' and print it."
   ]
  },
  {
   "cell_type": "code",
   "execution_count": 11,
   "metadata": {},
   "outputs": [
    {
     "name": "stdout",
     "output_type": "stream",
     "text": [
      "[[0. 0. 1. ... 3. 0. 0.]\n",
      " [0. 1. 2. ... 1. 0. 1.]\n",
      " [0. 1. 1. ... 2. 1. 1.]\n",
      " ...\n",
      " [0. 1. 1. ... 1. 1. 1.]\n",
      " [0. 0. 0. ... 0. 2. 0.]\n",
      " [0. 0. 1. ... 1. 1. 0.]]\n"
     ]
    }
   ],
   "source": [
    "print(data)"
   ]
  },
  {
   "cell_type": "markdown",
   "metadata": {},
   "source": [
    "What type of things does data refer to?\n",
    "```\n",
    "print(type(data))\n",
    "```"
   ]
  },
  {
   "cell_type": "code",
   "execution_count": 12,
   "metadata": {},
   "outputs": [
    {
     "name": "stdout",
     "output_type": "stream",
     "text": [
      "<class 'numpy.ndarray'>\n"
     ]
    }
   ],
   "source": [
    "print(type(data))"
   ]
  },
  {
   "cell_type": "markdown",
   "metadata": {},
   "source": [
    "The output tells us that data currently refers to an N-dimensional array, the functionality for which is provided by the NumPy library. These data correspond to arthritis patients’ inflammation. The rows are the individual patients, and the columns are their daily inflammation measurements."
   ]
  },
  {
   "cell_type": "markdown",
   "metadata": {},
   "source": [
    "What type of data contained in the numpy array?"
   ]
  },
  {
   "cell_type": "markdown",
   "metadata": {},
   "source": [
    "```\n",
    "data.dtype\n",
    "```"
   ]
  },
  {
   "cell_type": "code",
   "execution_count": 14,
   "metadata": {},
   "outputs": [
    {
     "data": {
      "text/plain": [
       "dtype('float64')"
      ]
     },
     "execution_count": 14,
     "metadata": {},
     "output_type": "execute_result"
    }
   ],
   "source": [
    "data.dtype"
   ]
  },
  {
   "cell_type": "markdown",
   "metadata": {},
   "source": [
    "What is the size of the array? How many rows and columns?"
   ]
  },
  {
   "cell_type": "markdown",
   "metadata": {},
   "source": [
    "```\n",
    "data.shape\n",
    "```"
   ]
  },
  {
   "cell_type": "code",
   "execution_count": 15,
   "metadata": {},
   "outputs": [
    {
     "data": {
      "text/plain": [
       "(60, 40)"
      ]
     },
     "execution_count": 15,
     "metadata": {},
     "output_type": "execute_result"
    }
   ],
   "source": [
    "data.shape\n",
    "#rows = patients\n",
    "#columns = days"
   ]
  },
  {
   "cell_type": "markdown",
   "metadata": {},
   "source": [
    "What is the first value in the array? the value at row 0 and column 0?"
   ]
  },
  {
   "cell_type": "markdown",
   "metadata": {},
   "source": [
    "```\n",
    "print(\"The first value in the array: \", data[0,0])\n",
    "```"
   ]
  },
  {
   "cell_type": "code",
   "execution_count": 17,
   "metadata": {},
   "outputs": [
    {
     "name": "stdout",
     "output_type": "stream",
     "text": [
      "The fist value in the array:  0.0\n"
     ]
    }
   ],
   "source": [
    "print(\"The fist value in the array: \", data[0,0])"
   ]
  },
  {
   "cell_type": "markdown",
   "metadata": {},
   "source": [
    "What is the middle value in the array? value at row 30 and column 20."
   ]
  },
  {
   "cell_type": "markdown",
   "metadata": {},
   "source": [
    "```\n",
    "print('The middle value in the array: ', data[30, 20])\n",
    "```"
   ]
  },
  {
   "cell_type": "code",
   "execution_count": 18,
   "metadata": {},
   "outputs": [
    {
     "data": {
      "text/plain": [
       "10.0"
      ]
     },
     "execution_count": 18,
     "metadata": {},
     "output_type": "execute_result"
    }
   ],
   "source": [
    "data[30,30]"
   ]
  },
  {
   "cell_type": "markdown",
   "metadata": {},
   "source": [
    "$m\\times n$ array's index starts from 0, 0 to m, n.\n",
    "![](array-indexing.png)"
   ]
  },
  {
   "cell_type": "markdown",
   "metadata": {},
   "source": [
    "How to select part of the data? For example, the inflammation of first 10 days for patients 3-6?"
   ]
  },
  {
   "cell_type": "markdown",
   "metadata": {},
   "source": [
    "```\n",
    "data[3:6, 0:10]\n",
    "```"
   ]
  },
  {
   "cell_type": "code",
   "execution_count": 19,
   "metadata": {},
   "outputs": [
    {
     "data": {
      "text/plain": [
       "array([[0., 0., 2., 0., 4., 2., 2., 1., 6., 7.],\n",
       "       [0., 1., 1., 3., 3., 1., 3., 5., 2., 4.],\n",
       "       [0., 0., 1., 2., 2., 4., 2., 1., 6., 4.]])"
      ]
     },
     "execution_count": 19,
     "metadata": {},
     "output_type": "execute_result"
    }
   ],
   "source": [
    "#for patients 4 t0 7, what are the inflammation points for the first 10 days\n",
    "data[3:6, 0:10]"
   ]
  },
  {
   "cell_type": "markdown",
   "metadata": {},
   "source": [
    "How to select rows 0 through 2 and columns 36 through to the end of the array?"
   ]
  },
  {
   "cell_type": "markdown",
   "metadata": {},
   "source": [
    "```\n",
    "data[:3, 36:]\n",
    "```"
   ]
  },
  {
   "cell_type": "code",
   "execution_count": 20,
   "metadata": {},
   "outputs": [
    {
     "data": {
      "text/plain": [
       "array([[2., 3., 0., 0.],\n",
       "       [1., 1., 0., 1.],\n",
       "       [2., 2., 1., 1.]])"
      ]
     },
     "execution_count": 20,
     "metadata": {},
     "output_type": "execute_result"
    }
   ],
   "source": [
    "data[:3, 36:]"
   ]
  },
  {
   "cell_type": "markdown",
   "metadata": {},
   "source": [
    "Arrays also know how to perform common mathematical operations on their values. The simplest operations with data are arithmetic: addition, subtraction, multiplication, and division. When you do such operations on arrays, the operation is done element-by-element."
   ]
  },
  {
   "cell_type": "markdown",
   "metadata": {},
   "source": [
    "How to double the inflammation values for all the patients and for all days?"
   ]
  },
  {
   "cell_type": "markdown",
   "metadata": {},
   "source": [
    "```\n",
    "doubledata = data * 2\n",
    "print(doubledata[:3, 36:])\n",
    "print(\"--\"*10)\n",
    "print(data[:3, 36:])\n",
    "```"
   ]
  },
  {
   "cell_type": "code",
   "execution_count": 21,
   "metadata": {},
   "outputs": [],
   "source": [
    "doubledata = data * 2"
   ]
  },
  {
   "cell_type": "code",
   "execution_count": 23,
   "metadata": {},
   "outputs": [
    {
     "name": "stdout",
     "output_type": "stream",
     "text": [
      "[[4. 6. 0. 0.]\n",
      " [2. 2. 0. 2.]\n",
      " [4. 4. 2. 2.]]\n"
     ]
    }
   ],
   "source": [
    "print(doubledata[:3, 36:])"
   ]
  },
  {
   "cell_type": "code",
   "execution_count": 25,
   "metadata": {},
   "outputs": [
    {
     "name": "stdout",
     "output_type": "stream",
     "text": [
      "--------------------\n",
      "[[2. 3. 0. 0.]\n",
      " [1. 1. 0. 1.]\n",
      " [2. 2. 1. 1.]]\n"
     ]
    }
   ],
   "source": [
    "print(\"--\"*10)\n",
    "print(data[:3, 36:])"
   ]
  },
  {
   "cell_type": "markdown",
   "metadata": {},
   "source": [
    "```\n",
    "tripledata = doubledata + data\n",
    "print(tripledata[:3, 36:])\n",
    "```"
   ]
  },
  {
   "cell_type": "code",
   "execution_count": null,
   "metadata": {
    "collapsed": true
   },
   "outputs": [],
   "source": []
  },
  {
   "cell_type": "markdown",
   "metadata": {},
   "source": [
    "Often, we want to do more than add, subtract, multiply, and divide array elements. NumPy knows how to do more complex operations, too. If we want to find the average inflammation for all patients on all days, for example, we can ask NumPy to compute data’s mean value."
   ]
  },
  {
   "cell_type": "markdown",
   "metadata": {},
   "source": [
    "```\n",
    "np.mean(data)\n",
    "```"
   ]
  },
  {
   "cell_type": "code",
   "execution_count": 26,
   "metadata": {},
   "outputs": [
    {
     "data": {
      "text/plain": [
       "6.14875"
      ]
     },
     "execution_count": 26,
     "metadata": {},
     "output_type": "execute_result"
    }
   ],
   "source": [
    "np.mean(data)"
   ]
  },
  {
   "cell_type": "markdown",
   "metadata": {},
   "source": [
    "When analyzing data, though, we often want to look at variations in statistical values, such as the maximum inflammation per patient or the average inflammation per day. One way to do this is to create a new temporary array of the data we want, then ask it to do the calculation."
   ]
  },
  {
   "cell_type": "markdown",
   "metadata": {},
   "source": [
    "```\n",
    "patient1 = data[1, :]\n",
    "patient1\n",
    "```"
   ]
  },
  {
   "cell_type": "code",
   "execution_count": 29,
   "metadata": {},
   "outputs": [
    {
     "data": {
      "text/plain": [
       "5.45"
      ]
     },
     "execution_count": 29,
     "metadata": {},
     "output_type": "execute_result"
    }
   ],
   "source": [
    "patient1 = data[0,:]\n",
    "np.mean(patient1)"
   ]
  },
  {
   "cell_type": "markdown",
   "metadata": {},
   "source": [
    "```\n",
    "print('The average inflammation for patient 1 is: ', np.mean(patient1))\n",
    "```"
   ]
  },
  {
   "cell_type": "code",
   "execution_count": null,
   "metadata": {
    "collapsed": true
   },
   "outputs": [],
   "source": []
  },
  {
   "cell_type": "markdown",
   "metadata": {},
   "source": [
    "What if we need the maximum inflammation for each patient over all days (as in the next diagram on the left) or the average for each day (as in the diagram on the right)? As the diagram below shows, we want to perform the operation across an axis.\n",
    "![](array-axises.png)"
   ]
  },
  {
   "cell_type": "markdown",
   "metadata": {},
   "source": [
    "How to calculate the daily average inflammation for all the patients?"
   ]
  },
  {
   "cell_type": "markdown",
   "metadata": {},
   "source": [
    "```\n",
    "daily_averages = np.mean(data, axis = 0)\n",
    "daily_averages\n",
    "```"
   ]
  },
  {
   "cell_type": "code",
   "execution_count": 32,
   "metadata": {},
   "outputs": [
    {
     "data": {
      "text/plain": [
       "array([ 0.    ,  0.45  ,  1.1167,  1.75  ,  2.4333,  3.15  ,  3.8   ,\n",
       "        3.8833,  5.2333,  5.5167,  5.95  ,  5.9   ,  8.35  ,  7.7333,\n",
       "        8.3667,  9.5   ,  9.5833, 10.6333, 11.5667, 12.35  , 13.25  ,\n",
       "       11.9667, 11.0333, 10.1667, 10.    ,  8.6667,  9.15  ,  7.25  ,\n",
       "        7.3333,  6.5833,  6.0667,  5.95  ,  5.1167,  3.6   ,  3.3   ,\n",
       "        3.5667,  2.4833,  1.5   ,  1.1333,  0.5667])"
      ]
     },
     "execution_count": 32,
     "metadata": {},
     "output_type": "execute_result"
    }
   ],
   "source": [
    "#axis = 1 is for horizontal movement\n",
    "#axis = 0 is for vertical movement\n",
    "\n",
    "daily_averages = np.mean(data, axis = 0)\n",
    "daily_averages"
   ]
  },
  {
   "cell_type": "markdown",
   "metadata": {},
   "source": [
    "```\n",
    "daily_averages.shape\n",
    "```"
   ]
  },
  {
   "cell_type": "code",
   "execution_count": 33,
   "metadata": {},
   "outputs": [
    {
     "data": {
      "text/plain": [
       "(40,)"
      ]
     },
     "execution_count": 33,
     "metadata": {},
     "output_type": "execute_result"
    }
   ],
   "source": [
    "daily_averages.shape"
   ]
  },
  {
   "cell_type": "markdown",
   "metadata": {},
   "source": [
    "How to calculate the average inflammations for all the patients?"
   ]
  },
  {
   "cell_type": "markdown",
   "metadata": {},
   "source": [
    "```\n",
    "patient_averages = np.mean(data, axis = 1)\n",
    "patient_averages\n",
    "```"
   ]
  },
  {
   "cell_type": "code",
   "execution_count": 34,
   "metadata": {},
   "outputs": [],
   "source": [
    "patient_averages = np.mean(data, axis =1)"
   ]
  },
  {
   "cell_type": "markdown",
   "metadata": {},
   "source": [
    "```\n",
    "patient_averages.shape\n",
    "```"
   ]
  },
  {
   "cell_type": "code",
   "execution_count": 35,
   "metadata": {},
   "outputs": [
    {
     "data": {
      "text/plain": [
       "(60,)"
      ]
     },
     "execution_count": 35,
     "metadata": {},
     "output_type": "execute_result"
    }
   ],
   "source": [
    "patient_averages.shape"
   ]
  },
  {
   "cell_type": "markdown",
   "metadata": {},
   "source": [
    "The mathematician Richard Hamming once said, “The purpose of computing is insight, not numbers,” and the best way to develop insight is often to visualize data. \n",
    "\n",
    "We will have an entire lecture for visualization. But we can explore a few features of Python’s matplotlib library here."
   ]
  },
  {
   "cell_type": "markdown",
   "metadata": {},
   "source": [
    "How to visualize the inflammation values in a whole picture?"
   ]
  },
  {
   "cell_type": "markdown",
   "metadata": {},
   "source": [
    "```\n",
    "plt.imshow(data)\n",
    "```"
   ]
  },
  {
   "cell_type": "code",
   "execution_count": 36,
   "metadata": {},
   "outputs": [
    {
     "data": {
      "text/plain": [
       "<matplotlib.image.AxesImage at 0x118b8e4a8>"
      ]
     },
     "execution_count": 36,
     "metadata": {},
     "output_type": "execute_result"
    },
    {
     "data": {
      "image/png": "[encoded data removed]",
      "text/plain": [
       "<matplotlib.figure.Figure at 0x114c55358>"
      ]
     },
     "metadata": {},
     "output_type": "display_data"
    }
   ],
   "source": [
    "#heat map, bright color means higher value\n",
    "plt.imshow(data)"
   ]
  },
  {
   "cell_type": "markdown",
   "metadata": {},
   "source": [
    "Blue pixels in this heat map represent low values, while yellow pixels represent high values. As we can see, inflammation rises and falls over a 40-day period."
   ]
  },
  {
   "cell_type": "markdown",
   "metadata": {},
   "source": [
    "How do the average inflammation values look like across days?"
   ]
  },
  {
   "cell_type": "markdown",
   "metadata": {},
   "source": [
    "```\n",
    "plt.plot(daily_averages)\n",
    "```"
   ]
  },
  {
   "cell_type": "code",
   "execution_count": 37,
   "metadata": {},
   "outputs": [
    {
     "data": {
      "text/plain": [
       "[<matplotlib.lines.Line2D at 0x118fef940>]"
      ]
     },
     "execution_count": 37,
     "metadata": {},
     "output_type": "execute_result"
    },
    {
     "data": {
      "image/png": "[encoded data removed]",
      "text/plain": [
       "<matplotlib.figure.Figure at 0x1189d82e8>"
      ]
     },
     "metadata": {},
     "output_type": "display_data"
    }
   ],
   "source": [
    "plt.plot(daily_averages)"
   ]
  },
  {
   "cell_type": "markdown",
   "metadata": {},
   "source": [
    "How do the max inflammation values look like across all days?"
   ]
  },
  {
   "cell_type": "markdown",
   "metadata": {},
   "source": [
    "```\n",
    "plt.plot(np.max(data, axis = 0))\n",
    "```"
   ]
  },
  {
   "cell_type": "code",
   "execution_count": 39,
   "metadata": {},
   "outputs": [
    {
     "data": {
      "text/plain": [
       "[<matplotlib.lines.Line2D at 0x115dcbe48>]"
      ]
     },
     "execution_count": 39,
     "metadata": {},
     "output_type": "execute_result"
    },
    {
     "data": {
      "image/png": "[encoded data removed]",
      "text/plain": [
       "<matplotlib.figure.Figure at 0x119579cf8>"
      ]
     },
     "metadata": {},
     "output_type": "display_data"
    }
   ],
   "source": [
    "plt.plot(np.max(data, axis = 0))"
   ]
  },
  {
   "cell_type": "markdown",
   "metadata": {},
   "source": [
    "How do the min inflammation values look like across all days?"
   ]
  },
  {
   "cell_type": "markdown",
   "metadata": {},
   "source": [
    "```\n",
    "plt.plot(np.min(data, axis = 0))\n",
    "```"
   ]
  },
  {
   "cell_type": "code",
   "execution_count": 40,
   "metadata": {},
   "outputs": [
    {
     "data": {
      "text/plain": [
       "[<matplotlib.lines.Line2D at 0x115c2b908>]"
      ]
     },
     "execution_count": 40,
     "metadata": {},
     "output_type": "execute_result"
    },
    {
     "data": {
      "image/png": "[encoded data removed]",
      "text/plain": [
       "<matplotlib.figure.Figure at 0x1189d8860>"
      ]
     },
     "metadata": {},
     "output_type": "display_data"
    }
   ],
   "source": [
    "plt.plot(np.min(data, axis = 0))"
   ]
  },
  {
   "cell_type": "markdown",
   "metadata": {},
   "source": [
    "How to put all the figures side by side?"
   ]
  },
  {
   "cell_type": "markdown",
   "metadata": {},
   "source": [
    "```\n",
    "fig = plt.figure(figsize=(10, 3))\n",
    "axes1 = fig.add_subplot(131)\n",
    "axes2 = fig.add_subplot(132)\n",
    "axes3 = fig.add_subplot(133)\n",
    "\n",
    "axes1.plot(np.mean(data, axis = 0))\n",
    "axes1.set_ylabel(\"Average\")\n",
    "axes2.plot(np.max(data, axis = 0))\n",
    "axes2.set_ylabel(\"Max\")\n",
    "axes3.plot(np.min(data, axis = 0))\n",
    "axes3.set_ylabel(\"Min\")\n",
    "# axes2.set_xlim(-1, 50)\n",
    "\n",
    "plt.tight_layout()\n",
    "```"
   ]
  },
  {
   "cell_type": "code",
   "execution_count": 80,
   "metadata": {},
   "outputs": [],
   "source": [
    "?plt.figure"
   ]
  },
  {
   "cell_type": "code",
   "execution_count": 51,
   "metadata": {},
   "outputs": [
    {
     "data": {
      "image/png": "[encoded data removed]",
      "text/plain": [
       "<matplotlib.figure.Figure at 0x116df3c18>"
      ]
     },
     "metadata": {},
     "output_type": "display_data"
    }
   ],
   "source": [
    "fig = plt.figure(figsize=(10,3)) #width & heigt in inches\n",
    "axes1 = fig.add_subplot(1,3,1) #1 row, 3 figures, 1st position\n",
    "axes2 = fig.add_subplot(1,3,2) #1 row, 3 figures, 2nd position\n",
    "axes3 = fig.add_subplot(1,3,3) #1 row, 3 figures, 3rd position\n",
    "\n",
    "axes1.plot(np.mean(data, axis = 0))\n",
    "axes1.set_title(\"Average\")\n",
    "axes2.plot(np.max(data, axis = 0))\n",
    "axes2.set_title(\"Maximum\")\n",
    "axes3.plot(np.min(data, axis = 0))\n",
    "axes3.set_title(\"Minimum\")\n",
    "axes3.set_ylabel(\"Minimum Value\")\n",
    "\n",
    "plt.tight_layout() #auto adjust distance between plots"
   ]
  },
  {
   "cell_type": "markdown",
   "metadata": {},
   "source": [
    "This patient data is longitudinal in the sense that each row represents a series of observations relating to one individual. This means that the change in inflammation over time is a meaningful concept.\n",
    "\n",
    "The numpy.diff() function takes a NumPy array and returns the differences between two successive values along a specified axis. "
   ]
  },
  {
   "cell_type": "markdown",
   "metadata": {},
   "source": [
    "What is the largest change in inflammation for each patient?"
   ]
  },
  {
   "cell_type": "markdown",
   "metadata": {},
   "source": [
    "```\n",
    "np.max(np.diff(data, axis = 1), axis = 1)\n",
    "```"
   ]
  },
  {
   "cell_type": "code",
   "execution_count": 53,
   "metadata": {},
   "outputs": [
    {
     "data": {
      "text/plain": [
       "array([12., 12., 10., 10., 12., 12., 13.,  8., 12., 10.,  7.,  8.,  7.,\n",
       "        7., 12., 11.,  7., 10.,  9.,  9.,  7.,  9.,  9.,  8., 12.,  7.,\n",
       "       11.,  5., 10., 11., 10., 12., 10., 12.,  4.,  6.,  8.,  9., 10.,\n",
       "        9.,  8., 10., 13.,  8., 10., 11.,  6.,  9.,  8.,  9., 15., 11.,\n",
       "        8.,  9.,  8.,  9.,  9.,  7.,  7.])"
      ]
     },
     "execution_count": 53,
     "metadata": {},
     "output_type": "execute_result"
    }
   ],
   "source": [
    "np.max(np.diff(data, axis = 0), axis = 1)"
   ]
  },
  {
   "cell_type": "markdown",
   "metadata": {},
   "source": [
    "```\n",
    "plt.scatter(np.arange(0, 60), np.max(np.diff(data, axis = 1), axis = 1))\n",
    "plt.grid()\n",
    "```"
   ]
  },
  {
   "cell_type": "code",
   "execution_count": 77,
   "metadata": {},
   "outputs": [
    {
     "data": {
      "text/plain": [
       "([<matplotlib.axis.XTick at 0x123e65dd8>,\n",
       "  <matplotlib.axis.XTick at 0x123ed90f0>,\n",
       "  <matplotlib.axis.XTick at 0x124161048>,\n",
       "  <matplotlib.axis.XTick at 0x1241785f8>,\n",
       "  <matplotlib.axis.XTick at 0x124178be0>,\n",
       "  <matplotlib.axis.XTick at 0x12417e278>,\n",
       "  <matplotlib.axis.XTick at 0x12417e940>,\n",
       "  <matplotlib.axis.XTick at 0x124183048>,\n",
       "  <matplotlib.axis.XTick at 0x124183710>,\n",
       "  <matplotlib.axis.XTick at 0x124183dd8>,\n",
       "  <matplotlib.axis.XTick at 0x1241884e0>,\n",
       "  <matplotlib.axis.XTick at 0x124188ba8>,\n",
       "  <matplotlib.axis.XTick at 0x12418f2b0>,\n",
       "  <matplotlib.axis.XTick at 0x12418f978>,\n",
       "  <matplotlib.axis.XTick at 0x124308080>,\n",
       "  <matplotlib.axis.XTick at 0x124308748>,\n",
       "  <matplotlib.axis.XTick at 0x124308e10>,\n",
       "  <matplotlib.axis.XTick at 0x12430d518>,\n",
       "  <matplotlib.axis.XTick at 0x12430dbe0>,\n",
       "  <matplotlib.axis.XTick at 0x1243122e8>,\n",
       "  <matplotlib.axis.XTick at 0x1243129b0>,\n",
       "  <matplotlib.axis.XTick at 0x12431a0b8>,\n",
       "  <matplotlib.axis.XTick at 0x12431a780>,\n",
       "  <matplotlib.axis.XTick at 0x12431ae48>,\n",
       "  <matplotlib.axis.XTick at 0x12431f550>,\n",
       "  <matplotlib.axis.XTick at 0x12431fc18>,\n",
       "  <matplotlib.axis.XTick at 0x124326320>,\n",
       "  <matplotlib.axis.XTick at 0x1243269e8>,\n",
       "  <matplotlib.axis.XTick at 0x12432b0f0>,\n",
       "  <matplotlib.axis.XTick at 0x12432b7b8>,\n",
       "  <matplotlib.axis.XTick at 0x12432be80>,\n",
       "  <matplotlib.axis.XTick at 0x124331588>,\n",
       "  <matplotlib.axis.XTick at 0x124331c50>,\n",
       "  <matplotlib.axis.XTick at 0x124338358>,\n",
       "  <matplotlib.axis.XTick at 0x124338a20>,\n",
       "  <matplotlib.axis.XTick at 0x12433c128>,\n",
       "  <matplotlib.axis.XTick at 0x12433c7f0>,\n",
       "  <matplotlib.axis.XTick at 0x12433ceb8>,\n",
       "  <matplotlib.axis.XTick at 0x1243445c0>,\n",
       "  <matplotlib.axis.XTick at 0x124344c88>,\n",
       "  <matplotlib.axis.XTick at 0x12434a390>,\n",
       "  <matplotlib.axis.XTick at 0x12434aa58>,\n",
       "  <matplotlib.axis.XTick at 0x124350160>,\n",
       "  <matplotlib.axis.XTick at 0x124350828>,\n",
       "  <matplotlib.axis.XTick at 0x124350ef0>,\n",
       "  <matplotlib.axis.XTick at 0x1243555f8>,\n",
       "  <matplotlib.axis.XTick at 0x124355cc0>,\n",
       "  <matplotlib.axis.XTick at 0x12435c3c8>,\n",
       "  <matplotlib.axis.XTick at 0x12435ca90>,\n",
       "  <matplotlib.axis.XTick at 0x124361198>,\n",
       "  <matplotlib.axis.XTick at 0x124361860>,\n",
       "  <matplotlib.axis.XTick at 0x124361f28>,\n",
       "  <matplotlib.axis.XTick at 0x124367630>,\n",
       "  <matplotlib.axis.XTick at 0x124367cf8>,\n",
       "  <matplotlib.axis.XTick at 0x124370400>,\n",
       "  <matplotlib.axis.XTick at 0x124370ac8>,\n",
       "  <matplotlib.axis.XTick at 0x1243751d0>,\n",
       "  <matplotlib.axis.XTick at 0x124375898>,\n",
       "  <matplotlib.axis.XTick at 0x124375f60>,\n",
       "  <matplotlib.axis.XTick at 0x12437c668>],\n",
       " <a list of 60 Text xticklabel objects>)"
      ]
     },
     "execution_count": 77,
     "metadata": {},
     "output_type": "execute_result"
    },
    {
     "data": {
      "image/png": "[encoded data removed]",
      "text/plain": [
       "<matplotlib.figure.Figure at 0x11a5f7b38>"
      ]
     },
     "metadata": {},
     "output_type": "display_data"
    }
   ],
   "source": [
    "plt.figure(figsize =(12, 9)) #12, 9 is in inches apparently; it's more like ratios\n",
    "plt.scatter(np.arange(0, 60), np.max(np.diff(data, axis = 1), axis = 1),color = \"b\")\n",
    "plt.grid()\n",
    "plt.title(\"Max Inflammation Change for Patients\")\n",
    "plt.xticks(np.arange(0,60))\n"
   ]
  },
  {
   "cell_type": "markdown",
   "metadata": {},
   "source": [
    "### Creating ndarrays\n",
    "The easiest way to create an array is to use the array function. This accepts any\n",
    "sequence-like object (including other arrays) and produces a new NumPy array containing\n",
    "the passed data."
   ]
  },
  {
   "cell_type": "markdown",
   "metadata": {},
   "source": [
    "```\n",
    "data1 = [6, 7.5, 8, 0, 1]\n",
    "arr1 = np.array(data1)\n",
    "arr1\n",
    "```"
   ]
  },
  {
   "cell_type": "code",
   "execution_count": null,
   "metadata": {
    "collapsed": true
   },
   "outputs": [],
   "source": []
  },
  {
   "cell_type": "markdown",
   "metadata": {},
   "source": [
    "```\n",
    "data2 = [[1, 2, 3, 4], [5, 6, 7, 8]]\n",
    "arr2 = np.array(data2)\n",
    "arr2\n",
    "```"
   ]
  },
  {
   "cell_type": "code",
   "execution_count": null,
   "metadata": {
    "collapsed": true
   },
   "outputs": [],
   "source": []
  },
  {
   "cell_type": "markdown",
   "metadata": {},
   "source": [
    "In addition to np.array, there are a number of other functions for creating new\n",
    "arrays. As examples, zeros and ones create arrays of 0s or 1s, respectively, with a\n",
    "given length or shape. empty creates an array without initializing its values to any particular\n",
    "value. To create a higher dimensional array with these methods, pass a tuple\n",
    "for the shape."
   ]
  },
  {
   "cell_type": "markdown",
   "metadata": {},
   "source": [
    "```\n",
    "np.zeros(10)\n",
    "np.zeros((3, 6))\n",
    "np.empty((2, 3, 2))\n",
    "```"
   ]
  },
  {
   "cell_type": "code",
   "execution_count": null,
   "metadata": {
    "collapsed": true
   },
   "outputs": [],
   "source": []
  },
  {
   "cell_type": "markdown",
   "metadata": {},
   "source": [
    "```\n",
    "np.arange(15)\n",
    "```"
   ]
  },
  {
   "cell_type": "code",
   "execution_count": null,
   "metadata": {
    "collapsed": true
   },
   "outputs": [],
   "source": []
  },
  {
   "cell_type": "markdown",
   "metadata": {},
   "source": [
    "### Slicing is a View\n",
    "An important first distinction\n",
    "from Python’s built-in lists is that array slices are views on the original array.\n",
    "This means that the data is not copied, and any modifications to the view will be\n",
    "reflected in the source array."
   ]
  },
  {
   "cell_type": "markdown",
   "metadata": {},
   "source": [
    "```\n",
    "arr = np.arange(10)\n",
    "```"
   ]
  },
  {
   "cell_type": "code",
   "execution_count": null,
   "metadata": {
    "collapsed": true
   },
   "outputs": [],
   "source": []
  },
  {
   "cell_type": "markdown",
   "metadata": {},
   "source": [
    "```\n",
    "arr_slice = arr[5:8]\n",
    "arr_slice\n",
    "```"
   ]
  },
  {
   "cell_type": "code",
   "execution_count": null,
   "metadata": {
    "collapsed": true
   },
   "outputs": [],
   "source": []
  },
  {
   "cell_type": "markdown",
   "metadata": {},
   "source": [
    "```\n",
    "arr_slice[1] = 12345\n",
    "arr\n",
    "```"
   ]
  },
  {
   "cell_type": "code",
   "execution_count": null,
   "metadata": {
    "collapsed": true
   },
   "outputs": [],
   "source": []
  },
  {
   "cell_type": "markdown",
   "metadata": {},
   "source": [
    "```\n",
    "arr_slice[:] = 64\n",
    "arr\n",
    "```"
   ]
  },
  {
   "cell_type": "code",
   "execution_count": null,
   "metadata": {
    "collapsed": true
   },
   "outputs": [],
   "source": []
  },
  {
   "cell_type": "markdown",
   "metadata": {},
   "source": [
    "## Indexing with slices\n",
    "![](array-slicing.png)"
   ]
  },
  {
   "cell_type": "markdown",
   "metadata": {},
   "source": [
    "```\n",
    "arr = np.arange(10)\n",
    "arr[1:6]\n",
    "```"
   ]
  },
  {
   "cell_type": "code",
   "execution_count": null,
   "metadata": {
    "collapsed": true
   },
   "outputs": [],
   "source": []
  },
  {
   "cell_type": "markdown",
   "metadata": {},
   "source": [
    "```\n",
    "arr2d = np.array([[1, 2, 3], [4, 5, 6], [7, 8, 9]])\n",
    "arr2d[:2]\n",
    "```"
   ]
  },
  {
   "cell_type": "code",
   "execution_count": null,
   "metadata": {
    "collapsed": true
   },
   "outputs": [],
   "source": []
  },
  {
   "cell_type": "markdown",
   "metadata": {},
   "source": [
    "```\n",
    "arr2d[:2, 1:]\n",
    "```"
   ]
  },
  {
   "cell_type": "code",
   "execution_count": null,
   "metadata": {
    "collapsed": true
   },
   "outputs": [],
   "source": []
  },
  {
   "cell_type": "markdown",
   "metadata": {},
   "source": [
    "```\n",
    "arr2d[1, :2]\n",
    "```"
   ]
  },
  {
   "cell_type": "code",
   "execution_count": null,
   "metadata": {
    "collapsed": true
   },
   "outputs": [],
   "source": []
  },
  {
   "cell_type": "markdown",
   "metadata": {},
   "source": [
    "```\n",
    "arr2d[:2, 2]\n",
    "```"
   ]
  },
  {
   "cell_type": "code",
   "execution_count": null,
   "metadata": {
    "collapsed": true
   },
   "outputs": [],
   "source": []
  },
  {
   "cell_type": "markdown",
   "metadata": {},
   "source": [
    "```\n",
    "arr2d[:, :1]\n",
    "```"
   ]
  },
  {
   "cell_type": "code",
   "execution_count": null,
   "metadata": {
    "collapsed": true
   },
   "outputs": [],
   "source": []
  },
  {
   "cell_type": "markdown",
   "metadata": {},
   "source": [
    "```\n",
    "arr2d[:2, 1:]\n",
    "arr2d\n",
    "```"
   ]
  },
  {
   "cell_type": "code",
   "execution_count": null,
   "metadata": {
    "collapsed": true
   },
   "outputs": [],
   "source": []
  },
  {
   "cell_type": "markdown",
   "metadata": {},
   "source": [
    "### Boolean Indexing\n",
    "How to get the patients whose average inflammation is great than 7?"
   ]
  },
  {
   "cell_type": "markdown",
   "metadata": {},
   "source": [
    "```\n",
    "patient_averages > 7\n",
    "```"
   ]
  },
  {
   "cell_type": "code",
   "execution_count": null,
   "metadata": {
    "collapsed": true
   },
   "outputs": [],
   "source": []
  },
  {
   "cell_type": "markdown",
   "metadata": {},
   "source": [
    "```\n",
    "data[patient_averages > 7]\n",
    "```"
   ]
  },
  {
   "cell_type": "code",
   "execution_count": null,
   "metadata": {
    "collapsed": true
   },
   "outputs": [],
   "source": []
  },
  {
   "cell_type": "markdown",
   "metadata": {},
   "source": [
    "### Fancy Indexing\n",
    "Fancy indexing is a term adopted by NumPy to describe indexing using integer arrays.\n",
    "\n",
    "How to select the patients 6, 4, 12, 7 in this order?"
   ]
  },
  {
   "cell_type": "markdown",
   "metadata": {},
   "source": [
    "```\n",
    "data[[6, 4, 12, 7]]\n",
    "```"
   ]
  },
  {
   "cell_type": "code",
   "execution_count": null,
   "metadata": {
    "collapsed": true
   },
   "outputs": [],
   "source": []
  },
  {
   "cell_type": "markdown",
   "metadata": {},
   "source": [
    "```\n",
    "data[6]\n",
    "```"
   ]
  },
  {
   "cell_type": "code",
   "execution_count": null,
   "metadata": {
    "collapsed": true
   },
   "outputs": [],
   "source": []
  },
  {
   "cell_type": "markdown",
   "metadata": {},
   "source": [
    "```\n",
    "data[4]\n",
    "```"
   ]
  },
  {
   "cell_type": "code",
   "execution_count": null,
   "metadata": {
    "collapsed": true
   },
   "outputs": [],
   "source": []
  },
  {
   "cell_type": "markdown",
   "metadata": {},
   "source": [
    "```\n",
    "data[12]\n",
    "```"
   ]
  },
  {
   "cell_type": "code",
   "execution_count": null,
   "metadata": {
    "collapsed": true
   },
   "outputs": [],
   "source": []
  },
  {
   "cell_type": "markdown",
   "metadata": {},
   "source": [
    "```\n",
    "data[7]\n",
    "```"
   ]
  },
  {
   "cell_type": "code",
   "execution_count": null,
   "metadata": {
    "collapsed": true
   },
   "outputs": [],
   "source": []
  },
  {
   "cell_type": "markdown",
   "metadata": {},
   "source": [
    "## Universal Functions: Fast Element-Wise Array Functions\n",
    "A universal function, or ufunc, is a function that performs element-wise operations\n",
    "on data in ndarrays. You can think of them as fast vectorized wrappers for simple\n",
    "functions that take one or more scalar values and produce one or more scalar results."
   ]
  },
  {
   "cell_type": "markdown",
   "metadata": {},
   "source": [
    "```\n",
    "np.sqrt(data)\n",
    "```"
   ]
  },
  {
   "cell_type": "code",
   "execution_count": null,
   "metadata": {
    "collapsed": true
   },
   "outputs": [],
   "source": []
  },
  {
   "cell_type": "markdown",
   "metadata": {},
   "source": [
    "## Array-Oriented Programming with Arrays\n",
    "Using NumPy arrays enables you to express many kinds of data processing tasks as\n",
    "concise array expressions that might otherwise require writing loops. This practice of\n",
    "replacing explicit loops with array expressions is commonly referred to as vectorization.\n",
    "In general, vectorized array operations will often be one or two (or more) orders\n",
    "of magnitude faster than their pure Python equivalents, with the biggest impact in\n",
    "any kind of numerical computations.\n",
    "\n",
    "As a simple example, suppose we wished to evaluate the function $d= \\sqrt{x^2 + y^2}$\n",
    "across a regular grid of values. The np.meshgrid function takes two 1D arrays and\n",
    "produces two 2D matrices corresponding to all pairs of $(x, y)$ in the two arrays:"
   ]
  },
  {
   "cell_type": "markdown",
   "metadata": {},
   "source": [
    "```\n",
    "points = np.arange(-5, 5, 0.01) # 1000 equally spaced points\n",
    "xs, ys = np.meshgrid(points, points)\n",
    "xs\n",
    "```"
   ]
  },
  {
   "cell_type": "code",
   "execution_count": null,
   "metadata": {
    "collapsed": true
   },
   "outputs": [],
   "source": []
  },
  {
   "cell_type": "markdown",
   "metadata": {},
   "source": [
    "```\n",
    "np.meshgrid?\n",
    "```"
   ]
  },
  {
   "cell_type": "code",
   "execution_count": null,
   "metadata": {
    "collapsed": true
   },
   "outputs": [],
   "source": []
  },
  {
   "cell_type": "markdown",
   "metadata": {},
   "source": [
    "```\n",
    "z = np.sqrt(xs ** 2 + ys ** 2)\n",
    "z\n",
    "```"
   ]
  },
  {
   "cell_type": "code",
   "execution_count": null,
   "metadata": {
    "collapsed": true
   },
   "outputs": [],
   "source": []
  },
  {
   "cell_type": "markdown",
   "metadata": {},
   "source": [
    "```\n",
    "plt.imshow(z); plt.colorbar()\n",
    "plt.title(\"Image plot of $\\sqrt{x^2 + y^2}$ for a grid of values\")\n",
    "```"
   ]
  },
  {
   "cell_type": "code",
   "execution_count": null,
   "metadata": {
    "collapsed": true
   },
   "outputs": [],
   "source": []
  },
  {
   "cell_type": "markdown",
   "metadata": {},
   "source": [
    "### Expressing Conditional Logic as Array Operations\n",
    "How to replace all the inflammation values greater than 10 to 10? "
   ]
  },
  {
   "cell_type": "markdown",
   "metadata": {},
   "source": [
    "```\n",
    "data[0]\n",
    "```"
   ]
  },
  {
   "cell_type": "code",
   "execution_count": null,
   "metadata": {
    "collapsed": true
   },
   "outputs": [],
   "source": []
  },
  {
   "cell_type": "markdown",
   "metadata": {},
   "source": [
    "```\n",
    "smoothed_data = np.where(data > 10, 10, data)\n",
    "```"
   ]
  },
  {
   "cell_type": "code",
   "execution_count": null,
   "metadata": {
    "collapsed": true
   },
   "outputs": [],
   "source": []
  },
  {
   "cell_type": "markdown",
   "metadata": {},
   "source": [
    "```\n",
    "smoothed_data[0]\n",
    "```"
   ]
  },
  {
   "cell_type": "code",
   "execution_count": null,
   "metadata": {
    "collapsed": true
   },
   "outputs": [],
   "source": []
  },
  {
   "cell_type": "markdown",
   "metadata": {},
   "source": [
    "### Methods for Boolean Arrays\n",
    "Boolean values are coerced to 1 (True) and 0 (False) in the preceding methods. Thus,\n",
    "sum is often used as a means of counting True values in a boolean array.\n",
    "\n",
    "How many inflammation values greater than 15 for each patient?"
   ]
  },
  {
   "cell_type": "markdown",
   "metadata": {},
   "source": [
    "```\n",
    "np.sum(data > 15, axis = 1)\n",
    "```"
   ]
  },
  {
   "cell_type": "code",
   "execution_count": null,
   "metadata": {
    "collapsed": true
   },
   "outputs": [],
   "source": []
  },
  {
   "cell_type": "markdown",
   "metadata": {},
   "source": [
    "### Unique and Other Set Logic\n",
    "NumPy has some basic set operations for one-dimensional ndarrays. A commonly\n",
    "used one is np.unique, which returns the sorted unique values in an array."
   ]
  },
  {
   "cell_type": "markdown",
   "metadata": {},
   "source": [
    "```\n",
    "names = np.array(['Bob', 'Joe', 'Will', 'Bob', 'Will', 'Joe', 'Joe'])\n",
    "np.unique(names)\n",
    "```"
   ]
  },
  {
   "cell_type": "code",
   "execution_count": null,
   "metadata": {
    "collapsed": true
   },
   "outputs": [],
   "source": []
  },
  {
   "cell_type": "markdown",
   "metadata": {},
   "source": [
    "```\n",
    "dt = np.dtype('<U4')\n",
    "dt.name\n",
    "```"
   ]
  },
  {
   "cell_type": "code",
   "execution_count": null,
   "metadata": {
    "collapsed": true
   },
   "outputs": [],
   "source": []
  },
  {
   "cell_type": "markdown",
   "metadata": {},
   "source": [
    "## File Input and Output with Arrays\n",
    "np.save and np.load are the two workhorse functions for efficiently saving and loading\n",
    "array data on disk. Arrays are saved by default in an uncompressed raw binary\n",
    "format with file extension .npy."
   ]
  },
  {
   "cell_type": "markdown",
   "metadata": {},
   "source": [
    "```\n",
    "np.save('datasets/inflamation.npy', data)\n",
    "```"
   ]
  },
  {
   "cell_type": "code",
   "execution_count": null,
   "metadata": {
    "collapsed": true
   },
   "outputs": [],
   "source": []
  },
  {
   "cell_type": "markdown",
   "metadata": {},
   "source": [
    "```\n",
    "data_load = np.load('datasets/inflamation.npy')\n",
    "```"
   ]
  },
  {
   "cell_type": "code",
   "execution_count": null,
   "metadata": {
    "collapsed": true
   },
   "outputs": [],
   "source": []
  },
  {
   "cell_type": "markdown",
   "metadata": {},
   "source": [
    "```\n",
    "data_load == data\n",
    "```"
   ]
  },
  {
   "cell_type": "code",
   "execution_count": null,
   "metadata": {
    "collapsed": true
   },
   "outputs": [],
   "source": []
  },
  {
   "cell_type": "markdown",
   "metadata": {},
   "source": [
    "## Linear Algebra\n",
    "Linear algebra, like matrix multiplication, decompositions, determinants, and other\n",
    "square matrix math, is an important part of any array library. Unlike some languages\n",
    "like MATLAB, multiplying two two-dimensional arrays with * is an element-wise\n",
    "product instead of a matrix dot product. Thus, there is a function dot, both an array\n",
    "method and a function in the numpy namespace, for matrix multiplication.\n",
    "\n",
    "How similar are the patient 3 and patient 5 in terms of their inflammation values?"
   ]
  },
  {
   "cell_type": "markdown",
   "metadata": {},
   "source": [
    "```\n",
    "patient3 = data[3]\n",
    "patient5 = data[5]\n",
    "```"
   ]
  },
  {
   "cell_type": "code",
   "execution_count": null,
   "metadata": {
    "collapsed": true
   },
   "outputs": [],
   "source": []
  },
  {
   "cell_type": "markdown",
   "metadata": {},
   "source": [
    "```\n",
    "prod35 = np.dot(patient3, patient5)\n",
    "mag_3 = np.sqrt(np.dot(patient3, patient3))\n",
    "mag_5 = np.sqrt(np.dot(patient5, patient5))\n",
    "```"
   ]
  },
  {
   "cell_type": "code",
   "execution_count": null,
   "metadata": {
    "collapsed": true
   },
   "outputs": [],
   "source": []
  },
  {
   "cell_type": "markdown",
   "metadata": {},
   "source": [
    "```\n",
    "sim = prod35 / (mag_3 * mag_5)\n",
    "sim\n",
    "```"
   ]
  },
  {
   "cell_type": "code",
   "execution_count": null,
   "metadata": {
    "collapsed": true
   },
   "outputs": [],
   "source": []
  }
 ],
 "metadata": {
  "kernelspec": {
   "display_name": "Python 3",
   "language": "python",
   "name": "python3"
  },
  "language_info": {
   "codemirror_mode": {
    "name": "ipython",
    "version": 3
   },
   "file_extension": ".py",
   "mimetype": "text/x-python",
   "name": "python",
   "nbconvert_exporter": "python",
   "pygments_lexer": "ipython3",
   "version": "3.6.4"
  }
 },
 "nbformat": 4,
 "nbformat_minor": 1
}
